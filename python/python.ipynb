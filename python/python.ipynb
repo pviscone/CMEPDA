{
 "cells": [
  {
   "cell_type": "markdown",
   "metadata": {},
   "source": [
    "### Funzioni variadiche\n",
    "*args è una tupla, **kwargs un dizionario (bisogna passare le keyword)"
   ]
  },
  {
   "cell_type": "code",
   "execution_count": 2,
   "metadata": {},
   "outputs": [
    {
     "name": "stdout",
     "output_type": "stream",
     "text": [
      "(2, 4, 5)\n",
      "{'var1': 3, 'var2': 3}\n"
     ]
    }
   ],
   "source": [
    "def func(*args,**kwargs):\n",
    "    print(args)\n",
    "    print(kwargs)\n",
    "func(2,4,5,var1=3,var2 =3)"
   ]
  },
  {
   "cell_type": "markdown",
   "metadata": {},
   "source": [
    "# Classi\n",
    "\n",
    "Composizione vs inheritance: Composizione (un' attributo della classe è istanza di un'altra classe) = relazione di possesso. Inheritance = relazione di identità\n",
    "\n",
    "### Variabili \"private\"\n",
    "\n",
    "In python non esistono variabili private ma esistono delle convenzioni per far si che sia più difficile per l'utente rompere accidentalmente la classe facendo assegnazioni sbagliate alle variabili della classe.\n",
    "\n",
    "1. Usare _ (underscore) come prefisso dell'attributo\n",
    "2. creare un metodo che ritorna l'attributo e decorarlo con **property** (questo fa in modo che il metodo sia chiamabile senza usare l'operatore di chiamata () )\n",
    "3. (Opzionale): definisci un setter method per consentire la modifica dell'attributo (volendo si possono inserire dei meccaniscmi di controllo). va decorata con **attribute_name-setter**\n",
    "\n",
    "Nota che si potrà comunque accedere a _attr_name"
   ]
  },
  {
   "cell_type": "code",
   "execution_count": 26,
   "metadata": {},
   "outputs": [
    {
     "name": "stdout",
     "output_type": "stream",
     "text": [
      "10\n",
      "5\n",
      "Momentum must be positive\n",
      "5\n",
      "-4\n"
     ]
    }
   ],
   "source": [
    "class Particle():\n",
    "    def __init__(self, momentum):\n",
    "        self._momentum = momentum\n",
    "\n",
    "    @property\n",
    "    def momentum(self):\n",
    "        return self._momentum\n",
    "\n",
    "    @momentum.setter\n",
    "    def momentum(self, value):\n",
    "        if (value>=0):\n",
    "            self._momentum = value\n",
    "        else:\n",
    "            print(\"Momentum must be positive\")\n",
    "    def class_name(self):\n",
    "        print(\"Particle\")\n",
    "mu=Particle(10)\n",
    "print(mu.momentum)\n",
    "mu.momentum=5\n",
    "print(mu.momentum)\n",
    "mu.momentum=-4\n",
    "print(mu.momentum)\n",
    "mu._momentum=-4 ##si puo comunque accedere a questo attributo\n",
    "print(mu.momentum)"
   ]
  },
  {
   "cell_type": "code",
   "execution_count": 29,
   "metadata": {},
   "outputs": [
    {
     "data": {
      "text/plain": [
       "10"
      ]
     },
     "execution_count": 29,
     "metadata": {},
     "output_type": "execute_result"
    }
   ],
   "source": [
    "#INHERITANCE (i metodi ereditati possono essere sovrascritti)\n",
    "class ChargedParticle (Particle):\n",
    "    def __init__(self, momentum, charge):\n",
    "        Particle.__init__(self,momentum)\n",
    "        self.charge = charge\n",
    "mu=ChargedParticle(10,-1)\n",
    "mu.momentum #Nota che ha ereditato anche la property"
   ]
  },
  {
   "cell_type": "markdown",
   "metadata": {},
   "source": [
    "### Dunder methods\n",
    "\n",
    "E' possibile vedere tutti gli attributi di una classe tramite la funzione **dir()**\n",
    "\n",
    "- \\_\\_abs__,  \\_\\_add\\_\\_ , \\_\\_len\\_\\_,\\_\\_sub\\_\\_,\\_\\_mul\\_\\_,\\_\\_truediv\\_\\_,\\_\\_floordiv\\_\\_,\\_\\_pow\\_\\_ ... banali\n",
    "\n",
    "- \\_\\_rmul\\_\\_  gestisce la moltiplicazione ma a destra (facendo a*b l'interprete cerca il \\_\\_mul\\_\\_ di a, se non c'è cerca \\_\\_rmul\\_\\_ di b)\n",
    "\n",
    "- \\_\\_iadd\\_\\_ ,\\_\\_isub\\_\\_,\\_\\_imul\\_\\_,\\_\\_itruediv\\_\\_,\\_\\_ifloordiv\\_\\_   modifica il comportamento di +=,-=,*=,/=,//=\n",
    "\n",
    "- \\_\\_lt\\_\\_, \\_\\_le\\_\\_,\\_\\_eq\\_\\_,\\_\\_ne\\_\\_,\\_\\_gt\\_\\_,\\_\\_ge\\_\\_ cambia il comportamento degli operatori <,<=,==,!=,>,>=. NB: una volta definita una coppia di operatori complementari (ad esempio >= e <) python automaticamente definisce in modo coerente tutti gli altri operatori. Inoltre una volta aver definito le relazioni di equivalenza è possibile usare il metodo .sort() sull'oggetto da noi creato\n",
    "\n",
    "- \\_\\_str\\_\\_ modifica il comportamtento di print()\n",
    "\n",
    "- \\_\\_repr\\_\\_ torna un output più dettagliato per il debug (Se non esiste un str l'interprete cerca direttamente repr)\n",
    "\n",
    "- \\_\\_contains\\_\\_ modifica il comportamento di in\n",
    "\n",
    "- \\_\\_setitem\\_\\_ è il metodo chiamato quando si fa un assegnazione a un dizionario. E' possibile dotare una classe della stessa funzionalità, cioè istance['key']=value dopo aver definito def \\_\\_setitem\\_\\_(self,name,value)\n",
    "\n",
    "- \\_\\_getitem\\_\\_ come setitem ma si usa per richiamare il valore di una chiave (ovviamente solo def \\_\\_getitem\\_\\_(self,name))\n",
    "\n",
    "- \\_\\_delitem\\_\\_ modifica il comportamento di rimozione della chiave\n",
    "\n",
    "- \\_\\_missing\\_\\_ cambia il comportamente in caso di chiave mancante del dizionario\n",
    "\n",
    "- \\_\\_del\\_\\_ modifica il comportamento di del ( non esattamente così, fa prima altre cose)\n",
    "\n",
    "- \\_\\_call\\_\\_ metodo chiamato ogni volta che viene invocata una funzione (o meglio, overloading dell'operatore call () ). Può essere usato per assegnare alla classe il comportamento di funzione \n",
    "\n",
    "  ```python\n",
    "  class name:\n",
    "      def __call__(self):\n",
    "          return True\n",
    "  istance=name()\n",
    "  istance() #torna True\n",
    "  ```\n",
    "\n",
    "  Questo mostra come **le funzioni sono classi**\n",
    "\n",
    "- \\_\\_hash__ è possibile definire l'hashing su un oggetto da noi definito.\n",
    "  Per poter definire un hashing serve che\n",
    "  - L'oggetto sia immutabile\n",
    "  - Sia dotato di metodo \\_\\_eq\\_\\_ per comparare gli oggetti della classe\n",
    "  - deve tornare lo stesso hash per oggetti equivalenti, tornare lo stesso valore per oggetti diversi e ricoprire il codominio in modo uniforme\n",
    "\n",
    "La lista di tutti i dunder method è qui https://docs.python.org/3/reference/datamodel.html#"
   ]
  },
  {
   "cell_type": "markdown",
   "metadata": {},
   "source": [
    "## Metaclassi\n",
    "Una metaclasse è una class factory. Quando viene creato un oggetto viene chiamata la metaclasse della classe a cui appartiene l'oggetto\n",
    "\n",
    "Una metaclasse eredita da type, deve essere dotata di un metodo call che prende in input cls e ritorna una istanza (usualmente creata usando il call di type che è la metaclasse predefinita).\n",
    "\n",
    "Per usare la metaclasse la classe andrà definita con (metaclass=metaclass_name)\n",
    "\n",
    "Per esempio possono essere usate per creare un singleton"
   ]
  },
  {
   "cell_type": "code",
   "execution_count": 97,
   "metadata": {},
   "outputs": [
    {
     "name": "stdout",
     "output_type": "stream",
     "text": [
      "2\n"
     ]
    }
   ],
   "source": [
    "class MetaSingleton(type):\n",
    "    _instances = {}\n",
    "    def __call__(cls, *args, **kwargs):\n",
    "        if cls not in cls._instances:\n",
    "            cls._instances[cls] = super(MetaSingleton, cls).__call__(*args, **kwargs) ## Chiama il costruttore della classe usando la metaclasse type (quella di default)\n",
    "        return cls._instances[cls]\n",
    "class Singleton(metaclass=MetaSingleton):\n",
    "    def __init__(self,data):\n",
    "        self.data=data\n",
    "    pass\n",
    "\n",
    "sing=Singleton(2)\n",
    "sing2=Singleton(3)\n",
    "print(sing2.data) # sing2 in realtà è sing"
   ]
  },
  {
   "cell_type": "code",
   "execution_count": 96,
   "metadata": {},
   "outputs": [
    {
     "data": {
      "text/plain": [
       "2"
      ]
     },
     "execution_count": 96,
     "metadata": {},
     "output_type": "execute_result"
    }
   ],
   "source": []
  },
  {
   "cell_type": "markdown",
   "metadata": {},
   "source": []
  },
  {
   "cell_type": "markdown",
   "metadata": {},
   "source": [
    "# Iterabili e iteratori\n",
    "Un iterabile è un oggetto che ha il metodo \\_\\_iter\\_\\_ che ritorna un iteratore.\n",
    "Un iteratore è un oggetto che implementa il medoto \\_\\_next\\_\\_ che dice quale sia l'elemento successivo nella sequenza\n",
    "Quando non ci sono più elementi da ritornare viene raisata un'eccezione StopIteration\n",
    "\n",
    "Grazie alla presenza del metodo \\_\\_iter\\_\\_ è possibile usare tutti i metodi applicati alle iterabili come :\n",
    "\n",
    "- sum(), max(), min(), enumerate\n",
    "- map(): Applica una funzione elemento per elemento ad un iterabile\n",
    "- filter(): Itera solamente  su gli elementi che rispettano una data condizione\n",
    "- zip(): Itera su una coppia di elementi ovvero crea coppie di elementi di due iterabili\n",
    "\n",
    "Inoltre la libreria **itertools** presenta una serie sterminata di strumenti da usare sugli iterabili:\n",
    "\n",
    "- takewhile: Stoppa il looping quando una condizione diventa falsa\n",
    "- chain: Looppa su più sequenza una dopo l'altra\n",
    "- cycle: Looppa sulle sequenze in modo ripetuto indefinitamente\n",
    "- permutations: Crea su tutte le permutazioni di elementi di una data lungheza\n",
    "\n",
    "## Generatori\n",
    "\n",
    "I generatori sono oggetti che funzionano in modo Lazy: generano i dati solo al momento di iterazione evitando l'overhead in memoria. (Un esempio è range)\n",
    "Per creare un generatore basta usare **yield**\n",
    "\n",
    "Le funzioni map, zip, filter, reverse, enumerate ritornano dei generatori"
   ]
  },
  {
   "cell_type": "code",
   "execution_count": 54,
   "metadata": {},
   "outputs": [
    {
     "name": "stdout",
     "output_type": "stream",
     "text": [
      "[(2, 1), (3, 2), (4, 3), (5, 4), (6, 5), (7, 6), (8, 7), (9, 8), (10, 9), (11, 10)]\n",
      "[2, 1]\n",
      "[3, 2]\n",
      "[4, 3]\n",
      "[5, 4]\n",
      "[6, 5]\n",
      "[7, 6]\n",
      "[8, 7]\n",
      "[9, 8]\n",
      "[10, 9]\n",
      "[11, 10]\n",
      "<generator object MinkowskiVec1D.generator at 0x7fc4a68ff370>\n",
      "(2, 1)\n",
      "(3, 2)\n",
      "(4, 3)\n",
      "(5, 4)\n",
      "(6, 5)\n",
      "(7, 6)\n",
      "(8, 7)\n",
      "(9, 8)\n",
      "(10, 9)\n",
      "(11, 10)\n"
     ]
    }
   ],
   "source": [
    "#esempio iteratore (esempio brutale, non è ovviamente il modo migliore per fare questa cosa)\n",
    "class MinkowskiVec1D():\n",
    "    def __init__(self, x,t):\n",
    "        self.x=x\n",
    "        self.t=t\n",
    "        self.MVec=list(zip(t,x))\n",
    "        self.index=0\n",
    "    def __next__(self):\n",
    "        try:\n",
    "            item=self.MVec[self.index]\n",
    "        except IndexError:\n",
    "            raise StopIteration\n",
    "        self.index +=1\n",
    "        return list(item)\n",
    "    def __iter__(self):\n",
    "        return self\n",
    "    def generator(self):\n",
    "        for elem in self.MVec:\n",
    "            yield elem\n",
    "\n",
    "vec1=MinkowskiVec1D([1,2,3,4,5,6,7,8,9,10], [2,3,4,5,6,7,8,9,10,11])\n",
    "print(vec1.MVec)\n",
    "for i in vec1:\n",
    "    print(i)\n",
    "vec_generator=vec1.generator()\n",
    "print(vec_generator)\n",
    "for i in vec_generator:\n",
    "    print(i)\n",
    "\n"
   ]
  },
  {
   "cell_type": "markdown",
   "metadata": {},
   "source": [
    "# Decoratori\n",
    "\n",
    "Un decoratore è un modo per poter aggiungere delle funzionalità a una funzione wrappandola all'interno di un'altra funzione.\n",
    "\n",
    "Una funzione è anche decorabile più volte, basta impilare i decoratori. La funzione verrà comunque eseguita una sola volta\n",
    "\n",
    "Per creare un decoratore si fa prima a mostrare un esempio che a spiegarlo a parole ma essenzialmente chiamare una funzione decorata equivale a chiamare la funzione decorator_name(function_name) (Si può vedere il decoratore come funzione di funzione)\n",
    "\n",
    "**Problema** In questo modo perdo sia le docstring che alcune informazioni come \\_\\_name\\_\\_ della funzione decorata (function.\\_\\_name\\_\\_ sarà \"wrapper\"). Per risolvere questo problema posso usare il decoratore wraps da functools e decorare il wrapper"
   ]
  },
  {
   "cell_type": "code",
   "execution_count": 72,
   "metadata": {},
   "outputs": [
    {
     "name": "stdout",
     "output_type": "stream",
     "text": [
      "I'm about to call 'funzione'\n",
      "Hello\n",
      "Elapsed time: 1.0010275840759277\n",
      "1\n"
     ]
    },
    {
     "data": {
      "text/plain": [
       "'funzione'"
      ]
     },
     "execution_count": 72,
     "metadata": {},
     "output_type": "execute_result"
    }
   ],
   "source": [
    "# Decoratore per mostrare il tempo impiegato per eseguire una funzione\n",
    "import time\n",
    "from functools import wraps\n",
    "\n",
    "def elapsed_time(func):\n",
    "    @wraps(func)\n",
    "    def wrapper(*args,**kwargs):\n",
    "        print(f\"I'm about to call '{func.__name__}'\")\n",
    "        start=time.time()\n",
    "        ret=func(*args,**kwargs)\n",
    "        print(\"Elapsed time:\",time.time()-start)\n",
    "        return ret\n",
    "    return wrapper\n",
    "\n",
    "@elapsed_time\n",
    "def funzione():\n",
    "    print(\"Hello\")\n",
    "    time.sleep(1)\n",
    "    return 1\n",
    "\n",
    "ret=funzione()\n",
    "print(ret)\n",
    "funzione.__name__\n"
   ]
  },
  {
   "cell_type": "markdown",
   "metadata": {},
   "source": [
    "Volendo si può definire anche un **decoratore con dei parametri**, basta incapsulare il decoratore in un' altra funzione che ha in input i parametri e che ritorna il decoratore"
   ]
  },
  {
   "cell_type": "code",
   "execution_count": 75,
   "metadata": {},
   "outputs": [
    {
     "name": "stdout",
     "output_type": "stream",
     "text": [
      "Arguments:2\n",
      "I'm about to call 'funzione'\n",
      "Hello\n",
      "Elapsed time: 1.0010526180267334\n"
     ]
    }
   ],
   "source": [
    "def elapsed_attr(param):\n",
    "    print(f\"Arguments:{param}\")\n",
    "    return elapsed_time\n",
    "\n",
    "@elapsed_attr(2)\n",
    "def funzione():\n",
    "    print(\"Hello\")\n",
    "    time.sleep(1)\n",
    "    return 1\n",
    "\n",
    "ret=funzione()"
   ]
  },
  {
   "cell_type": "markdown",
   "metadata": {},
   "source": [
    "## classmethods\n",
    "Un classmethod è un metodo appartenente a una classe che si può usare senza definire un instanza. E' utile per definire un costruttore alternativo\n",
    "\n",
    "**NB: non essendo riferito a nessuna istanza non può accedere ai suoi attributi e non ha self tra gli attributi (ma si può passare cls che è riferito all'intera classe)**"
   ]
  },
  {
   "cell_type": "code",
   "execution_count": 86,
   "metadata": {},
   "outputs": [
    {
     "name": "stdout",
     "output_type": "stream",
     "text": [
      "[1, 2, 3]\n",
      "File data.txt not found\n"
     ]
    }
   ],
   "source": [
    "import numpy as np\n",
    "class Data:\n",
    "    def __init__(self, data):\n",
    "        self.data = data\n",
    "\n",
    "    @classmethod\n",
    "    def fromFile(cls, filename):\n",
    "        try:\n",
    "            data = np.loadtxt(filename)\n",
    "            return cls(data)\n",
    "        except:\n",
    "            print(f\"File {filename} not found\")\n",
    "data1=Data([1,2,3])\n",
    "print(data1.data)\n",
    "data2=Data.fromFile(\"data.txt\")"
   ]
  },
  {
   "cell_type": "markdown",
   "metadata": {},
   "source": [
    "## staticmethod\n",
    "Uno staticmethod è un metodo che non riceve l'istanza o la classe come primo argomento e non altera lo stato della classe. E' definito nella classe per pura convenienza ma potrebbe stare tranquillamente fuori"
   ]
  },
  {
   "cell_type": "code",
   "execution_count": 88,
   "metadata": {},
   "outputs": [
    {
     "name": "stdout",
     "output_type": "stream",
     "text": [
      "180.0\n"
     ]
    }
   ],
   "source": [
    "class angle:\n",
    "    @staticmethod\n",
    "    def rad2deg(rad):\n",
    "        return rad*180/np.pi\n",
    "deg_pi=angle.rad2deg(np.pi)\n",
    "print(deg_pi)"
   ]
  },
  {
   "cell_type": "code",
   "execution_count": null,
   "metadata": {},
   "outputs": [],
   "source": []
  },
  {
   "cell_type": "markdown",
   "metadata": {},
   "source": [
    "# Eccezioni\n",
    "E' possibile definire un eccezione custom creando una classe che eredita da un'eccezione"
   ]
  },
  {
   "cell_type": "code",
   "execution_count": 109,
   "metadata": {},
   "outputs": [
    {
     "ename": "ValoreBrutto",
     "evalue": "Bro, ma come ti viene in mente di scegliere 10?",
     "output_type": "error",
     "traceback": [
      "\u001b[0;31m---------------------------------------------------------------------------\u001b[0m",
      "\u001b[0;31mValoreBrutto\u001b[0m                              Traceback (most recent call last)",
      "\u001b[1;32m/home/pviscone/Desktop/CMEPDA/python/python.ipynb Cell 23'\u001b[0m in \u001b[0;36m<cell line: 6>\u001b[0;34m()\u001b[0m\n\u001b[1;32m      <a href='vscode-notebook-cell:/home/pviscone/Desktop/CMEPDA/python/python.ipynb#ch0000032?line=2'>3</a>\u001b[0m         \u001b[39mself\u001b[39m\u001b[39m.\u001b[39mvalue \u001b[39m=\u001b[39m value\n\u001b[1;32m      <a href='vscode-notebook-cell:/home/pviscone/Desktop/CMEPDA/python/python.ipynb#ch0000032?line=3'>4</a>\u001b[0m         \u001b[39mValueError\u001b[39;00m\u001b[39m.\u001b[39m\u001b[39m__init__\u001b[39m(\u001b[39mself\u001b[39m,\u001b[39mf\u001b[39m\u001b[39m\"\u001b[39m\u001b[39mBro, ma come ti viene in mente di scegliere \u001b[39m\u001b[39m{\u001b[39;00m\u001b[39mself\u001b[39m\u001b[39m.\u001b[39mvalue\u001b[39m}\u001b[39;00m\u001b[39m?\u001b[39m\u001b[39m\"\u001b[39m)\n\u001b[0;32m----> <a href='vscode-notebook-cell:/home/pviscone/Desktop/CMEPDA/python/python.ipynb#ch0000032?line=5'>6</a>\u001b[0m \u001b[39mraise\u001b[39;00m ValoreBrutto(\u001b[39m10\u001b[39m)\n",
      "\u001b[0;31mValoreBrutto\u001b[0m: Bro, ma come ti viene in mente di scegliere 10?"
     ]
    }
   ],
   "source": [
    "\n",
    "class ValoreBrutto(ValueError):\n",
    "    def __init__(self, value):\n",
    "        self.value = value\n",
    "        ValueError.__init__(self,f\"Bro, ma come ti viene in mente di scegliere {self.value}?\")\n",
    "\n",
    "raise ValoreBrutto(10)"
   ]
  },
  {
   "cell_type": "code",
   "execution_count": null,
   "metadata": {},
   "outputs": [],
   "source": []
  },
  {
   "cell_type": "markdown",
   "metadata": {},
   "source": []
  },
  {
   "cell_type": "markdown",
   "metadata": {},
   "source": [
    "# Contex managers\n",
    "\n",
    "Un contex manager è una classe dotata dei metodi \\_\\_enter\\_\\_ ed \\_\\_exit\\_\\_\n",
    "\n",
    "1. with chiama il metodo enter e il valore ritornato verrà assegnato alla variabile dopo il comando as\n",
    "2. Vengono eseguiti i comandi all'interno del contex manager\n",
    "3. Viene eseguito l'exit method (exit oltr a self ha bisogno di exc_type,exc_value, exc_traceback). Exit ritorna un valore booleano che indica se è stata raisata un'eccezione nel corpo di with. I 3 argomenti aggiuntivi contengono informazioni sull'eccezione "
   ]
  },
  {
   "cell_type": "code",
   "execution_count": 1,
   "metadata": {},
   "outputs": [
    {
     "name": "stdout",
     "output_type": "stream",
     "text": [
      "/home/pviscone/Desktop/CMEPDA/python\n",
      "The number of files in this directory is 1\n",
      "['/home/pviscone/Desktop/CMEPDA/python/python.ipynb']\n",
      "Contex manager exited\n"
     ]
    }
   ],
   "source": [
    "import glob\n",
    "import os\n",
    "class filedisplay:\n",
    "    def __init__ (self,path=os.getcwd()):\n",
    "        self.path=path\n",
    "    def __enter__(self):\n",
    "        print(self.path)\n",
    "        return glob.glob(f\"{self.path}/*\")\n",
    "    def __exit__(self,exc_type,exc_value, exc_traceback):\n",
    "        print(\"Contex manager exited\")\n",
    "with filedisplay() as files:\n",
    "    print(f\"The number of files in this directory is {len(files)}\")\n",
    "    print(files)\n"
   ]
  },
  {
   "cell_type": "code",
   "execution_count": null,
   "metadata": {},
   "outputs": [],
   "source": []
  }
 ],
 "metadata": {
  "interpreter": {
   "hash": "e7370f93d1d0cde622a1f8e1c04877d8463912d04d973331ad4851f04de6915a"
  },
  "kernelspec": {
   "display_name": "Python 3.10.4 64-bit",
   "language": "python",
   "name": "python3"
  },
  "language_info": {
   "codemirror_mode": {
    "name": "ipython",
    "version": 3
   },
   "file_extension": ".py",
   "mimetype": "text/x-python",
   "name": "python",
   "nbconvert_exporter": "python",
   "pygments_lexer": "ipython3",
   "version": "3.10.4"
  },
  "orig_nbformat": 4
 },
 "nbformat": 4,
 "nbformat_minor": 2
}
