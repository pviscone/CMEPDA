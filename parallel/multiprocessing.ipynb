{
 "cells": [
  {
   "cell_type": "markdown",
   "metadata": {},
   "source": [
    "Mulitprocessing è il modulo che permette di creare e gestire più processi in python.\n",
    "Le classi principali sono:\n",
    "- Process\n",
    "- Queue\n",
    "- Lock"
   ]
  },
  {
   "cell_type": "code",
   "execution_count": 49,
   "metadata": {},
   "outputs": [],
   "source": [
    "import multiprocessing as mp"
   ]
  },
  {
   "cell_type": "code",
   "execution_count": 50,
   "metadata": {},
   "outputs": [
    {
     "name": "stdout",
     "output_type": "stream",
     "text": [
      "The number of cores is 8\n"
     ]
    }
   ],
   "source": [
    "print(f\"The number of cores is {mp.cpu_count()}\")"
   ]
  },
  {
   "cell_type": "markdown",
   "metadata": {},
   "source": [
    "## Process\n",
    "permette di creare un processo figlio del processo principale.\n",
    "\n",
    "Le due funzioni principali sono:\n",
    "- start() : Il processo parte e ritorna il suo risultato\n",
    "- join() : Per terminare il processo dopo che ha fatto il suo lavoro (se non usato il processo rimane IDLE a vita)\n",
    "\n",
    "se si vuole passare degli argomenti al processo bisogna usare la keyword args.\n",
    "\n",
    "**Si noti come non sempre i processi vengono usati nell'ordine impartito**\n",
    "Ricorda che noi generiamo solo diversi processi ma è lo scheduler del sistema operativo che li distribuisce sulle cpu. Potrebbero comunque essere lanciati tutti sulla stessa cpu ma tipicamente gli scheduler sono furbi"
   ]
  },
  {
   "cell_type": "code",
   "execution_count": 3,
   "metadata": {},
   "outputs": [
    {
     "name": "stdout",
     "output_type": "stream",
     "text": [
      "La stringa è 0\n",
      "La stringa è 1La stringa è 2\n",
      "La stringa è 3\n",
      "\n",
      "La stringa è 4La stringa è 5\n",
      "\n",
      "La stringa è 6\n",
      "La stringa è 7\n",
      "La stringa è 8\n",
      "La stringa è 9\n",
      "La stringa è 10\n",
      "La stringa è 11\n",
      "La stringa è 12\n",
      "La stringa è 13\n",
      "La stringa è 14\n",
      "La stringa è 15\n",
      "La stringa è 16\n",
      "La stringa è 17\n",
      "La stringa è 18\n",
      "La stringa è 19\n",
      "La stringa è 20\n",
      "La stringa è 21\n",
      "La stringa è 22\n",
      "La stringa è 23\n",
      "La stringa è 24\n",
      "La stringa è 25La stringa è 27La stringa è 26\n",
      "La stringa è 29\n",
      "La stringa è 28\n",
      "\n",
      "\n",
      "La stringa è 30La stringa è 31\n",
      "La stringa è 32\n",
      "\n",
      "La stringa è 33La stringa è 34\n",
      "\n",
      "La stringa è 36La stringa è 35La stringa è 37\n",
      "\n",
      "\n",
      "La stringa è 38\n",
      "La stringa è 39\n"
     ]
    }
   ],
   "source": [
    "def stampa(string=\"ciao\"):\n",
    "    print(f\"La stringa è {string}\")\n",
    "\n",
    "nomi=[\"pippo\", \"pluto\", \"paperino\"]\n",
    "\n",
    "#Istanzio classe process (non so perchè ci vuole virgola in args ma ci vuole)\n",
    "procs=[mp.Process(target=stampa, args=(str(i),)) for i in range(40)]\n",
    "for i in procs:\n",
    "    i.start()\n",
    "for i in procs:\n",
    "    i.join()"
   ]
  },
  {
   "cell_type": "markdown",
   "metadata": {},
   "source": [
    "## Queue\n",
    "Una queue è una struttura dati First in First out (FIFO) process e thread safe che può contenere qualsiasi oggetto python (in realtà solo quelli pickleable).\n",
    "\n",
    "Questa struttura è molto utile per condividere dati tra i processi soprattutto se passata come paramentro a un Process\n",
    "\n",
    "Le funzioni principali sono:\n",
    "- put() : Inserisce un oggetto nella coda\n",
    "- get() : Preleva un oggetto dalla coda\n",
    "\n",
    "Nell'esempio qui sotto la versione seriale è più veloce in quanto il task è molto semplice e c'è un overhead enorme nella creazione dei processi e causa un effort più grande dell' operazione stessa"
   ]
  },
  {
   "cell_type": "code",
   "execution_count": 11,
   "metadata": {},
   "outputs": [
    {
     "name": "stdout",
     "output_type": "stream",
     "text": [
      "[2, 3, 4, 5, 6, 7, 8, 9, 10, 11, 12, 13, 14, 15, 16, 17, 18, 19, 20, 21, 22, 23, 25, 26, 24, 29, 27, 30, 31, 28, 32, 33, 34, 35, 36, 37, 38, 40, 39, 41, 43, 42, 44, 45, 46, 47, 48, 49, 50, 51, 52, 53, 54, 55, 56, 57, 58, 59, 60, 61, 62, 63, 64, 65, 66, 67, 68, 69, 70, 71, 72, 73, 74, 75, 76, 77, 78, 79, 80, 81, 82, 83, 84, 85, 86, 87, 88, 89, 90, 91, 92, 93, 94, 95, 96, 97, 98, 99, 100, 101]\n",
      "Time for parallel version: 0.9140706062316895\n",
      "[2, 3, 4, 5, 6, 7, 8, 9, 10, 11, 12, 13, 14, 15, 16, 17, 18, 19, 20, 21, 22, 23, 24, 25, 26, 27, 28, 29, 30, 31, 32, 33, 34, 35, 36, 37, 38, 39, 40, 41, 42, 43, 44, 45, 46, 47, 48, 49, 50, 51, 52, 53, 54, 55, 56, 57, 58, 59, 60, 61, 62, 63, 64, 65, 66, 67, 68, 69, 70, 71, 72, 73, 74, 75, 76, 77, 78, 79, 80, 81, 82, 83, 84, 85, 86, 87, 88, 89, 90, 91, 92, 93, 94, 95, 96, 97, 98, 99, 100, 101]\n",
      "Time for serial version: 0.005970954895019531\n"
     ]
    }
   ],
   "source": [
    "import time\n",
    "def somma_2(num,queue):\n",
    "    res=num+2\n",
    "    queue.put(res)\n",
    "N=100\n",
    "nums=[i for i in range(N)]\n",
    "\n",
    "def parallel_sum():\n",
    "    queue=mp.Queue()\n",
    "    procs=[mp.Process(target=somma_2, args=(num,queue)) for num in nums]\n",
    "    for p in procs:\n",
    "        p.start()\n",
    "    for p in procs:\n",
    "        p.join()\n",
    "\n",
    "    results=[queue.get() for p in procs]\n",
    "    print(results)\n",
    "\n",
    "def serial_sum():\n",
    "    queue=mp.Queue()\n",
    "    for i in nums:\n",
    "        somma_2(i,queue)\n",
    "    results=[queue.get() for i in nums]\n",
    "    print(results)\n",
    "\n",
    "start_time=time.time()\n",
    "parallel_sum()\n",
    "print(f\"Time for parallel version: {time.time()-start_time}\")\n",
    "start_time=time.time()\n",
    "serial_sum()\n",
    "print(f\"Time for serial version: {time.time()-start_time}\")\n",
    "\n"
   ]
  },
  {
   "cell_type": "markdown",
   "metadata": {},
   "source": [
    "## Pool\n",
    "La classe pool può essere usata per runnare una funzione in parallelo con input multipli.\n",
    "\n",
    "NB: pool.map ritorna e ha come argomento solo iterabili\n",
    "\n",
    "La differenza tra map e map_async è che map_async non aspetta che tutti i processi finiscano prima di ritornare. Nel caso asincrono quando si chiama .get se i processi non sono terminati il programma attende la fine dell'esecuzione\n",
    "\n",
    "Oltre le funzioni map e map_async si possono usare anche le funzioni apply e apply_async. Su queste funzioni si possono passare anche una funzione di callback che viene eseguita quando il processo termina. Inoltre ci sono alcune differenze sui tempi di esecuzione quando vengono passate strutture più complesse come dizionari"
   ]
  },
  {
   "cell_type": "code",
   "execution_count": 15,
   "metadata": {},
   "outputs": [
    {
     "name": "stdout",
     "output_type": "stream",
     "text": [
      "Sincrono\n",
      "[2, 3, 4, 5, 6, 7, 8, 9, 10, 11]\n",
      "Asincrono\n",
      "[2, 3, 4, 5, 6, 7, 8, 9, 10, 11]\n"
     ]
    }
   ],
   "source": [
    "# L'esempio di prima può essere effettuato con i pool\n",
    "#Il numero in pool è il numero di processi\n",
    "nums=[i for i in range(10)]\n",
    "p=mp.Pool(2)\n",
    "def somma_2_2(num):\n",
    "    time.sleep(0.5)\n",
    "    return num+2\n",
    "\n",
    "results=p.map(somma_2_2,nums)\n",
    "print(\"Sincrono\")\n",
    "print(results)\n",
    "results=p.map_async(somma_2_2,nums)\n",
    "## Avendo usato map async results è un oggetto asincrono che continua a runnare finchè non è completato.\n",
    "## Il comando .get ritorna il risulatato.\n",
    "print(\"Asincrono\")\n",
    "print(results.get())"
   ]
  },
  {
   "cell_type": "markdown",
   "metadata": {},
   "source": [
    "## Comunicazione tra i processi\n",
    "**Bisogna ricordare che processi diversi hanno spazi di memoria separati quindi non possiamo far comunicare i processi (o anche solo scrivere i risultati) su una variabile globale**\n",
    "\n",
    "Ci sono diversi modi per far comunicare i processi:\n",
    "- Queue: come abbiamo gia viso. Un processo fa il put e inserisce i dati un altro processo fa il get\n",
    "- Shared Memory: Possiamo usare una memoria condivisa tra i processi (anche se in questi spazi di memoria possiamo definire solo degli array o delle variabili singole).\n",
    "  **NOTA che esiste un modulo shared_memory in multiprocessing. Potrebbe essere molto utile a risolvere questo problema e a diminuire lo spazio di allocazione**\n",
    "- Server process: Un server process è un processo che gestisce la memoria di tutti i sotto processi. Il vantaggio è che può operare su qualsiasi struttura dati e i processi possono essere anche distribuiti su una rete\n",
    "- Pipe: Una pipe è semplicemente una connessione tra 2 oggetti. Non è una struttura dati ed è l'elemento più semplice da usare quindi preferibile quando possibile (più veloce)\n",
    "\n",
    "Questi esempi sono abbastanza inutile poichè delego un compito semplice a un solo processo quindi non c'è neanche parallelismo ma è per far capire la sintassi"
   ]
  },
  {
   "cell_type": "code",
   "execution_count": 20,
   "metadata": {},
   "outputs": [
    {
     "name": "stdout",
     "output_type": "stream",
     "text": [
      "Array:[3.0, 4.0, 5.0, 6.0, 7.0, 8.399999618530273, 8.800000190734863, 7.300000190734863], sum of array:0.0\n"
     ]
    }
   ],
   "source": [
    "#SHARED MEMORY\n",
    "def sum_2(num_list,result,result_sum):\n",
    "    for idx,num in enumerate(num_list):\n",
    "        result[idx]=num+2\n",
    "    result_sum=sum(num_list)\n",
    "\n",
    "nums=[1,2,3,4,5,6.4,6.8,5.3]\n",
    "##Si crea un array nella shared memory: bisogna specificare tipo e size (array  inizializzato a 0)\n",
    "result=mp.Array('f',len(nums))\n",
    "# Per il singolo valore funziona nello stesso modo\n",
    "result_sum=mp.Value('f')\n",
    "\n",
    "p=mp.Process(target=sum_2, args=(nums,result,result_sum))\n",
    "p.start()\n",
    "p.join()\n",
    "\n",
    "#Per richiamare i valori serve uno slicing per gli array e un .value per i valori\n",
    "print(f\"Array:{result[:]}, sum of array:{result_sum.value}\")\n"
   ]
  },
  {
   "cell_type": "code",
   "execution_count": 31,
   "metadata": {},
   "outputs": [
    {
     "name": "stdout",
     "output_type": "stream",
     "text": [
      "[3, 4, 5, 6, 7, 8.4, 8.8, 7.3]\n"
     ]
    }
   ],
   "source": [
    "# Server Process\n",
    "def sum_2(num_list,ns):\n",
    "    for nums in num_list:\n",
    "        (ns.result).append(nums+2)\n",
    "manager=mp.Manager()\n",
    "\n",
    "#E' possibile creare manualmente dei namespace\n",
    "ns=manager.Namespace()\n",
    "#Tutte le strutture dati vanno create in queso modo (manager.list, manager.dict ,etc...)\n",
    "ns.result=manager.list()\n",
    "\n",
    "p=mp.Process(target=sum_2, args=(nums,ns))\n",
    "p.start()\n",
    "p.join()\n",
    "print(ns.result)"
   ]
  },
  {
   "cell_type": "code",
   "execution_count": 41,
   "metadata": {},
   "outputs": [
    {
     "name": "stdout",
     "output_type": "stream",
     "text": [
      "Ciao Piero questa funzione è print_1\n",
      "Attenzione: E' stato eseguito l'accesso da Piero\n"
     ]
    }
   ],
   "source": [
    "#Pipe. Si può mandare l'informazione all'altra connessione con .send() e ruceverla con .recv()\n",
    "conn1,conn2=mp.Pipe()\n",
    "\n",
    "#mando a conn la stringa\n",
    "def print_1(nome,conn):\n",
    "    conn.send(nome)\n",
    "    print(f\"Ciao {nome} questa funzione è print_1\")\n",
    "def print_2(conn):\n",
    "    nome=conn.recv()\n",
    "    print(f\"Attenzione: E' stato eseguito l'accesso da {nome}\")\n",
    "p1=mp.Process(target=print_1, args=(\"Piero\",conn1))\n",
    "p2=mp.Process(target=print_2, args=(conn2,))\n",
    "p1.start()\n",
    "p2.start()\n",
    "p2.join()\n",
    "p1.join()"
   ]
  },
  {
   "cell_type": "markdown",
   "metadata": {},
   "source": [
    "## Sincronizzazione tra i processi\n",
    "Potrebbero accadere grandi disastri se processi diversi vogliono modificare gli stessi dati contemporaneamente. Se i processi devono agire sugli stessi dati devono essere sincronizzati altrimenti avviene quello che si chiama race condition\n",
    "\n",
    "Questo è possibile tramite un lock. Un lock è una variabile condivisa che permette di bloccare un processo per permettere l'accesso ai dati.\n",
    "\n",
    "Quando il lock viene acquisito da un processo gli altri processi non eseguono operazioni. Quando il lock viene rilasciato gli altri processi possono acquisire il lock ed eseguire le operazioni"
   ]
  },
  {
   "cell_type": "code",
   "execution_count": 51,
   "metadata": {},
   "outputs": [
    {
     "name": "stdout",
     "output_type": "stream",
     "text": [
      "Balance=545 con lock=False\n",
      "Balance=100 con lock=False\n",
      "Balance=662 con lock=False\n",
      "Balance=10 con lock=False\n",
      "Balance=-53 con lock=False\n",
      "Balance=184 con lock=False\n",
      "Balance=-92 con lock=False\n",
      "Balance=-250 con lock=False\n",
      "Balance=128 con lock=False\n",
      "Balance=342 con lock=False\n",
      "Balance=100 con lock=True\n",
      "Balance=100 con lock=True\n",
      "Balance=100 con lock=True\n",
      "Balance=100 con lock=True\n",
      "Balance=100 con lock=True\n",
      "Balance=100 con lock=True\n",
      "Balance=100 con lock=True\n",
      "Balance=100 con lock=True\n",
      "Balance=100 con lock=True\n",
      "Balance=100 con lock=True\n"
     ]
    }
   ],
   "source": [
    "#Esempio con e senza lock.\n",
    "def withdraw(balance,lock,lock_bool=True):\n",
    "    for i in range(10000):\n",
    "        if lock_bool:\n",
    "            lock.acquire()\n",
    "            balance.value-=1\n",
    "            lock.release()\n",
    "        else:\n",
    "            balance.value-=1\n",
    "def deposit(balance,lock,lock_bool=True):\n",
    "    for i in range(10000):\n",
    "        if lock_bool:\n",
    "            lock.acquire()\n",
    "            balance.value+=1\n",
    "            lock.release()\n",
    "        else:\n",
    "            balance.value+=1\n",
    "def loop(N,lock_bool=True):\n",
    "    for i in range(N):\n",
    "        balance=mp.Value(\"i\",100)\n",
    "        lock=mp.Lock()\n",
    "        p1=mp.Process(target=withdraw, args=(balance,lock,lock_bool))\n",
    "        p2=mp.Process(target=deposit, args=(balance,lock,lock_bool))\n",
    "        p1.start()\n",
    "        p2.start()\n",
    "        p1.join()\n",
    "        p2.join()\n",
    "        print(f\"Balance={balance.value} con lock={lock_bool}\")\n",
    "loop(10,lock_bool=False)\n",
    "loop(10,lock_bool=True)"
   ]
  },
  {
   "cell_type": "markdown",
   "metadata": {},
   "source": [
    "# Multithreading\n",
    "I thread runnano all'interno dello stesso processo. PERO' non possono essere killati\n",
    "\n",
    "\n",
    "Il GIL in python impedisce l'esecuzione di thread in parallelo.\n",
    "\n",
    "Il modulo per gestire i thread è threading e la sintassi per istanziare i thread è molto simile a quella dei processi in Process\n",
    "\n"
   ]
  },
  {
   "cell_type": "code",
   "execution_count": 1,
   "metadata": {},
   "outputs": [
    {
     "name": "stdout",
     "output_type": "stream",
     "text": [
      "thread 1\n",
      "thread 2\n"
     ]
    }
   ],
   "source": [
    "#Runnare diverse funzioni in thread diversi\n",
    "import threading as td\n",
    "def func1():\n",
    "    print(\"thread 1\")\n",
    "def func2():\n",
    "    print(\"thread 2\")\n",
    "t1=td.Thread(target=func1)\n",
    "t2=td.Thread(target=func2)\n",
    "t1.start()\n",
    "t2.start()\n",
    "t1.join()\n",
    "t2.join()\n"
   ]
  },
  {
   "cell_type": "markdown",
   "metadata": {},
   "source": [
    "La comunicazione tra diversi thread è più semplice da gestire in quanto tutti i thread vivono nello stesso spazio di memoria quindi volendo si può tranquillamente usare una variabile globale.\n",
    "\n",
    "Però anche per i thread bisogna porre attenzione al sincronismo dei thread. Anche se non runnano in parallelo.\n",
    "Questo succede perchè il GIL funziona in modo particolare: preveiene l'accesso simultaneo dei thread all'interprete di python ma i thread vengono comunque schedulati e il GIL ogni 10 operazioni di bytecode rilascia il thread e lascia al sistema operativo la scelta di quale thread eseguire.\n",
    "Questo significa che un thread può essere interrotto in qualsiasi momento nonostante non abbia concluso tutte le operazioni impartite dall'utente.\n",
    "\n",
    "Per prevenire questo comportamento anche in questo caso è necessario l'uso dei lock"
   ]
  },
  {
   "cell_type": "code",
   "execution_count": 34,
   "metadata": {},
   "outputs": [
    {
     "name": "stdout",
     "output_type": "stream",
     "text": [
      "Balance=200000 con lock=False\n",
      "Balance=200000 con lock=False\n",
      "Balance=200000 con lock=False\n",
      "Balance=200000 con lock=False\n",
      "Balance=200000 con lock=False\n",
      "Balance=200000 con lock=False\n",
      "Balance=200000 con lock=False\n",
      "Balance=200000 con lock=False\n",
      "Balance=200000 con lock=False\n",
      "Balance=200000 con lock=False\n",
      "Balance=200000 con lock=True\n",
      "Balance=200000 con lock=True\n",
      "Balance=200000 con lock=True\n",
      "Balance=200000 con lock=True\n",
      "Balance=200000 con lock=True\n",
      "Balance=200000 con lock=True\n",
      "Balance=200000 con lock=True\n",
      "Balance=200000 con lock=True\n",
      "Balance=200000 con lock=True\n",
      "Balance=200000 con lock=True\n"
     ]
    }
   ],
   "source": [
    "balance=0\n",
    "import sys\n",
    "def increment():\n",
    "    global balance\n",
    "    balance+=1\n",
    "def loop(N,lock,lock_bool):\n",
    "    if lock_bool:\n",
    "        for _ in range(N):\n",
    "            lock.acquire()\n",
    "            increment()\n",
    "            lock.release()\n",
    "    else:\n",
    "        for _ in range(N):\n",
    "            increment()\n",
    "def threads(N=100000,lock_bool=True):\n",
    "    global balance\n",
    "    balance=0\n",
    "    lock=td.Lock()\n",
    "    t1=td.Thread(target=loop, args=(N,lock,lock_bool))\n",
    "    t2=td.Thread(target=loop, args=(N,lock,lock_bool))\n",
    "    t1.start()\n",
    "    t2.start()\n",
    "    t1.join()\n",
    "    t2.join()\n",
    "    print(f\"Balance={balance} con lock={lock_bool}\")\n",
    "\n",
    "for i in range(10):\n",
    "    threads(lock_bool=False)\n",
    "for i in range(10):\n",
    "    threads(lock_bool=True)\n"
   ]
  },
  {
   "cell_type": "markdown",
   "metadata": {},
   "source": [
    "**NB NON so se questo problema è stato risolto nelle ultime versioni di python, è strano che senza lock il risultato sia giusto. Forse hanno cambiato comportamento gil ma non ci sperare troppo**"
   ]
  },
  {
   "cell_type": "markdown",
   "metadata": {},
   "source": [
    "I thread quindi sono utili in 2 casi:\n",
    "- Quando si vuole runnare codice in C (Il GIL viene rilasciato e i thread vanno in parallelo)\n",
    "- Per operazioni I/O l'interprete rilascia il GIL"
   ]
  },
  {
   "cell_type": "code",
   "execution_count": 37,
   "metadata": {},
   "outputs": [
    {
     "name": "stdout",
     "output_type": "stream",
     "text": [
      "Time: 17.484549723998498\n"
     ]
    }
   ],
   "source": [
    "# ESEMPIO COPIATO DALLE SLIDES PER SEMPLICITA'\n",
    "import threading as thr\n",
    "import requests\n",
    "import os\n",
    "from time import perf_counter\n",
    "buffer_size=1024\n",
    "#define a function to manage the download\n",
    "def download(url):\n",
    "    response = requests.get(url, stream=True)\n",
    "    filename = url.split(\"/\")[-1]\n",
    "    with open(filename,\"wb\") as f:\n",
    "        for data in response.iter_content(buffer_size):\n",
    "            f.write(data)\n",
    "#MAIN\n",
    "\n",
    "urls= [\n",
    "\"http://cds.cern.ch/record/2690508/files/201909-262_01.jpg\",\n",
    "\"http://cds.cern.ch/record/2274473/files/05-07-2017_Calorimeters.jpg\",\n",
    "\"http://cds.cern.ch/record/2274473/files/08-07-2017_Spectrometer_magnet.jpg\",\n",
    "\"http://cds.cern.ch/record/2127067/files/_MG_3944.jpg\",\n",
    "\"http://cds.cern.ch/record/2274473/files/08-07-2017_Electronics.jpg\",\n",
    "]\n",
    "#define 5 threads\n",
    "threads = [thr.Thread(target=download, args=(urls[x],)) for x in range(4)]\n",
    "t = perf_counter()\n",
    "#start threads\n",
    "for thread in threads:\n",
    "    thread.start()\n",
    "#join threads\n",
    "for thread in threads:\n",
    "    thread.join()\n",
    "print(\"Time: \"+str(perf_counter()-t))"
   ]
  },
  {
   "cell_type": "code",
   "execution_count": null,
   "metadata": {},
   "outputs": [],
   "source": []
  }
 ],
 "metadata": {
  "interpreter": {
   "hash": "e7370f93d1d0cde622a1f8e1c04877d8463912d04d973331ad4851f04de6915a"
  },
  "kernelspec": {
   "display_name": "Python 3.10.4 64-bit",
   "language": "python",
   "name": "python3"
  },
  "language_info": {
   "codemirror_mode": {
    "name": "ipython",
    "version": 3
   },
   "file_extension": ".py",
   "mimetype": "text/x-python",
   "name": "python",
   "nbconvert_exporter": "python",
   "pygments_lexer": "ipython3",
   "version": "3.10.4"
  },
  "orig_nbformat": 4
 },
 "nbformat": 4,
 "nbformat_minor": 2
}
