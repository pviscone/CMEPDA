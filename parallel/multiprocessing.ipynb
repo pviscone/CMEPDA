{
 "cells": [
  {
   "cell_type": "markdown",
   "metadata": {},
   "source": [
    "Mulitprocessing è il modulo che permette di creare e gestire più processi in python.\n",
    "Le classi principali sono:\n",
    "- Process\n",
    "- Queue\n",
    "- Lock"
   ]
  },
  {
   "cell_type": "code",
   "execution_count": 1,
   "metadata": {},
   "outputs": [],
   "source": [
    "import multiprocessing as mp"
   ]
  },
  {
   "cell_type": "code",
   "execution_count": 2,
   "metadata": {},
   "outputs": [
    {
     "name": "stdout",
     "output_type": "stream",
     "text": [
      "The number of cores is 8\n"
     ]
    }
   ],
   "source": [
    "print(f\"The number of cores is {mp.cpu_count()}\")"
   ]
  },
  {
   "cell_type": "markdown",
   "metadata": {},
   "source": [
    "## Process\n",
    "permette di creare un processo figlio del processo principale.\n",
    "\n",
    "Le due funzioni principali sono:\n",
    "- start() : Il processo parte e ritorna il suo risultato\n",
    "- join() : Per terminare il processo dopo che ha fatto il suo lavoro (se non usato il processo rimane IDLE a vita)\n",
    "\n",
    "se si vuole passare degli argomenti al processo bisogna usare la keyword args.\n",
    "\n",
    "**Si noti come non sempre i processi vengono usati nell'ordine impartito**"
   ]
  },
  {
   "cell_type": "code",
   "execution_count": 3,
   "metadata": {},
   "outputs": [
    {
     "name": "stdout",
     "output_type": "stream",
     "text": [
      "La stringa è 0\n",
      "La stringa è 3La stringa è 2La stringa è 4La stringa è 1\n",
      "La stringa è 5\n",
      "\n",
      "\n",
      "La stringa è 6\n",
      "La stringa è 8\n",
      "La stringa è 7La stringa è 9\n",
      "\n",
      "La stringa è 10\n",
      "\n",
      "La stringa è 11\n",
      "La stringa è 12\n",
      "La stringa è 13\n",
      "La stringa è 14\n",
      "La stringa è 15\n",
      "La stringa è 16\n",
      "La stringa è 17\n",
      "\n",
      "La stringa è 18La stringa è 19\n",
      "La stringa è 20\n",
      "La stringa è 21\n",
      "La stringa è 22\n",
      "La stringa è 23\n",
      "La stringa è 24\n",
      "La stringa è 25\n",
      "La stringa è 26\n",
      "La stringa è 27La stringa è 28\n",
      "\n",
      "La stringa è 29\n",
      "La stringa è 30\n",
      "La stringa è 31\n",
      "La stringa è 32\n",
      "La stringa è 33\n",
      "La stringa è 34\n",
      "La stringa è 35\n",
      "La stringa è 36\n",
      "La stringa è 37\n",
      "La stringa è 38\n",
      "La stringa è 39\n"
     ]
    }
   ],
   "source": [
    "def stampa(string=\"ciao\"):\n",
    "    print(f\"La stringa è {string}\")\n",
    "\n",
    "nomi=[\"pippo\", \"pluto\", \"paperino\"]\n",
    "\n",
    "#Istanzio classe process (non so perchè ci vuole virgola in args ma ci vuole)\n",
    "procs=[mp.Process(target=stampa, args=(str(i),)) for i in range(40)]\n",
    "for i in procs:\n",
    "    i.start()\n",
    "for i in procs:\n",
    "    i.join()"
   ]
  },
  {
   "cell_type": "markdown",
   "metadata": {},
   "source": [
    "## Queue\n",
    "Una queue è una struttura dati First in First out (FIFO) process e thread safe che può contenere qualsiasi oggetto python (in realtà solo quelli pickleable).\n",
    "\n",
    "Questa struttura è molto utile per condividere dati tra i processi soprattutto se passata come paramentro a un Process\n",
    "\n",
    "Le funzioni principali sono:\n",
    "- put() : Inserisce un oggetto nella coda\n",
    "- get() : Preleva un oggetto dalla coda\n",
    "\n",
    "Nell'esempio qui sotto la versione seriale è più veloce in quanto il task è molto semplice e c'è un overhead enorme nella creazione dei processi e causa un effort più grande dell' operazione stessa"
   ]
  },
  {
   "cell_type": "code",
   "execution_count": 4,
   "metadata": {},
   "outputs": [
    {
     "name": "stdout",
     "output_type": "stream",
     "text": [
      "[2, 3, 4, 5, 6, 7, 8, 9, 10, 11, 12, 13, 14, 15, 16, 17, 18, 19, 20, 21, 22, 23, 24, 25, 26, 27, 28, 29, 30, 31, 32, 33, 34, 35, 36, 37, 38, 39, 40, 41, 42, 43, 44, 45, 46, 47, 48, 49, 50, 51, 52, 53, 54, 55, 56, 57, 58, 59, 60, 61, 62, 63, 64, 65, 66, 67, 68, 69, 70, 71, 72, 73, 74, 75, 76, 77, 78, 79, 80, 81, 82, 83, 84, 85, 86, 87, 88, 89, 90, 91, 92, 93, 94, 95, 96, 97, 98, 99, 100, 101]\n",
      "Time for parallel version: 0.4316079616546631\n",
      "[2, 3, 4, 5, 6, 7, 8, 9, 10, 11, 12, 13, 14, 15, 16, 17, 18, 19, 20, 21, 22, 23, 24, 25, 26, 27, 28, 29, 30, 31, 32, 33, 34, 35, 36, 37, 38, 39, 40, 41, 42, 43, 44, 45, 46, 47, 48, 49, 50, 51, 52, 53, 54, 55, 56, 57, 58, 59, 60, 61, 62, 63, 64, 65, 66, 67, 68, 69, 70, 71, 72, 73, 74, 75, 76, 77, 78, 79, 80, 81, 82, 83, 84, 85, 86, 87, 88, 89, 90, 91, 92, 93, 94, 95, 96, 97, 98, 99, 100, 101]\n",
      "Time for serial version: 0.0023338794708251953\n"
     ]
    }
   ],
   "source": [
    "import time\n",
    "def somma_2(num,queue):\n",
    "    res=num+2\n",
    "    queue.put(res)\n",
    "N=100\n",
    "nums=[i for i in range(N)]\n",
    "\n",
    "def parallel_sum():\n",
    "    queue=mp.Queue()\n",
    "    procs=[mp.Process(target=somma_2, args=(num,queue)) for num in nums]\n",
    "    for p in procs:\n",
    "        p.start()\n",
    "    for p in procs:\n",
    "        p.join()\n",
    "\n",
    "    results=[queue.get() for p in procs]\n",
    "    print(results)\n",
    "\n",
    "def serial_sum():\n",
    "    queue=mp.Queue()\n",
    "    for i in nums:\n",
    "        somma_2(i,queue)\n",
    "    results=[queue.get() for i in nums]\n",
    "    print(results)\n",
    "\n",
    "start_time=time.time()\n",
    "parallel_sum()\n",
    "print(f\"Time for parallel version: {time.time()-start_time}\")\n",
    "start_time=time.time()\n",
    "serial_sum()\n",
    "print(f\"Time for serial version: {time.time()-start_time}\")\n",
    "\n"
   ]
  },
  {
   "cell_type": "markdown",
   "metadata": {},
   "source": [
    "## Pool\n",
    "La classe pool può essere usata per runnare una funzione in parallelo con input multipli.\n",
    "\n",
    "NB: pool.map ritorna e ha come argomento solo iterabili\n",
    "\n",
    "La differenza tra map e map_async è che map_async non aspetta che tutti i processi finiscano prima di ritornare"
   ]
  },
  {
   "cell_type": "code",
   "execution_count": 18,
   "metadata": {},
   "outputs": [
    {
     "name": "stdout",
     "output_type": "stream",
     "text": [
      "[2, 3, 4, 5, 6, 7, 8, 9, 10, 11, 12, 13, 14, 15, 16, 17, 18, 19, 20, 21, 22, 23, 24, 25, 26, 27, 28, 29, 30, 31, 32, 33, 34, 35, 36, 37, 38, 39, 40, 41, 42, 43, 44, 45, 46, 47, 48, 49, 50, 51, 52, 53, 54, 55, 56, 57, 58, 59, 60, 61, 62, 63, 64, 65, 66, 67, 68, 69, 70, 71, 72, 73, 74, 75, 76, 77, 78, 79, 80, 81, 82, 83, 84, 85, 86, 87, 88, 89, 90, 91, 92, 93, 94, 95, 96, 97, 98, 99, 100, 101]\n"
     ]
    }
   ],
   "source": [
    "# L'esempio di prima può essere effettuato con i pool\n",
    "#Il numero in pool è il numero di processi\n",
    "p=mp.Pool(2)\n",
    "def somma_2_2(num):\n",
    "    return num+2\n",
    "\n",
    "results=p.map(somma_2_2,nums)\n",
    "print(results)\n",
    "results=p.map_async(somma_2_2,nums)\n",
    "print(results.get())"
   ]
  },
  {
   "cell_type": "code",
   "execution_count": null,
   "metadata": {},
   "outputs": [],
   "source": []
  }
 ],
 "metadata": {
  "interpreter": {
   "hash": "e7370f93d1d0cde622a1f8e1c04877d8463912d04d973331ad4851f04de6915a"
  },
  "kernelspec": {
   "display_name": "Python 3.10.4 64-bit",
   "language": "python",
   "name": "python3"
  },
  "language_info": {
   "codemirror_mode": {
    "name": "ipython",
    "version": 3
   },
   "file_extension": ".py",
   "mimetype": "text/x-python",
   "name": "python",
   "nbconvert_exporter": "python",
   "pygments_lexer": "ipython3",
   "version": "3.10.4"
  },
  "orig_nbformat": 4
 },
 "nbformat": 4,
 "nbformat_minor": 2
}
