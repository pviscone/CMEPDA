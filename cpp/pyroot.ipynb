{
 "cells": [
  {
   "cell_type": "markdown",
   "metadata": {},
   "source": [
    "# PyROOT\n",
    "E' il binding python di root. Oltre a portare tutte le feature di root su python permette di caricare header e codice c++ in python "
   ]
  },
  {
   "cell_type": "code",
   "execution_count": 2,
   "metadata": {},
   "outputs": [
    {
     "name": "stdout",
     "output_type": "stream",
     "text": [
      "Welcome to JupyROOT 6.26/02\n"
     ]
    }
   ],
   "source": [
    "import ROOT"
   ]
  },
  {
   "cell_type": "code",
   "execution_count": 14,
   "metadata": {},
   "outputs": [
    {
     "data": {
      "image/png": "[encoded data removed]",
      "text/plain": [
       "<IPython.core.display.Image object>"
      ]
     },
     "metadata": {},
     "output_type": "display_data"
    }
   ],
   "source": [
    "#Esempio plot funzione\n",
    "g=ROOT.TGraph()\n",
    "c=ROOT.TCanvas()\n",
    "func=ROOT.TF1(\"func\",\"[0]+sin([1]*x)\",0,10)\n",
    "func.SetParameters(1,1)\n",
    "func.Draw()\n",
    "c.Draw()\n"
   ]
  },
  {
   "cell_type": "markdown",
   "metadata": {},
   "source": [
    "## Importare codice cpp\n",
    "Per importare il codice basta scrivere il sorgente (o importarlo) come stringa e poi eseguirlo con\n",
    "ROOT.gInterpreter.ProcessLine(cpp_string)\n",
    "\n",
    "(Si possono fare anche cose abbastanza complicate come creare delle classi in modo da poter creare delle istanze direttamente in python)\n",
    "\n",
    "E' possibile caricare anche una shared library usando il comando ROOT.gSystem.Load(path)"
   ]
  },
  {
   "cell_type": "code",
   "execution_count": 4,
   "metadata": {},
   "outputs": [
    {
     "name": "stdout",
     "output_type": "stream",
     "text": [
      "25\n"
     ]
    }
   ],
   "source": [
    "cpp_code=\"\"\"\n",
    "int f(int i){return i*i;}\n",
    "\"\"\"\n",
    "ROOT.gInterpreter.ProcessLine(cpp_code)\n",
    "x=ROOT.f(5)\n",
    "print(x)\n",
    "\n",
    "#La stessa cosa si può fare se si vuole importare un header o una shared library"
   ]
  },
  {
   "cell_type": "markdown",
   "metadata": {},
   "source": [
    "# Files\n",
    "Funziona essenzialmente tutto come ROOT in c++"
   ]
  },
  {
   "cell_type": "code",
   "execution_count": 24,
   "metadata": {},
   "outputs": [],
   "source": [
    "import numpy as np\n",
    "f= ROOT.TFile(\"file.root\",\"RECREATE\")\n",
    "tree=ROOT.TTree(\"tree\",\"tree\")\n",
    "x=np.array([1,2,3,4,5]).astype(np.float32) #E' importante far matchare i tipi\n",
    "tree.Branch(\"x\",x,'x[5]/F')\n",
    "tree.Fill()\n",
    "f.Write()\n",
    "f.Close()"
   ]
  },
  {
   "cell_type": "markdown",
   "metadata": {},
   "source": [
    "# TTree"
   ]
  },
  {
   "cell_type": "code",
   "execution_count": 25,
   "metadata": {},
   "outputs": [
    {
     "name": "stdout",
     "output_type": "stream",
     "text": [
      "OBJ: TTree\ttree\ttree : 0 at: 0x56463a84a000\n"
     ]
    }
   ],
   "source": [
    "f=ROOT.TFile.Open(\"file.root\")\n",
    "f.tree.ls()"
   ]
  },
  {
   "cell_type": "code",
   "execution_count": 26,
   "metadata": {},
   "outputs": [
    {
     "data": {
      "text/plain": [
       "5"
      ]
     },
     "execution_count": 26,
     "metadata": {},
     "output_type": "execute_result"
    },
    {
     "name": "stdout",
     "output_type": "stream",
     "text": [
      "***********************************\n",
      "*    Row   * Instance *       x.x *\n",
      "***********************************\n",
      "*        0 *        0 *         1 *\n",
      "*        0 *        1 *         2 *\n",
      "*        0 *        2 *         3 *\n",
      "*        0 *        3 *         4 *\n",
      "*        0 *        4 *         5 *\n",
      "***********************************\n"
     ]
    }
   ],
   "source": [
    "f.tree.Scan()"
   ]
  },
  {
   "cell_type": "code",
   "execution_count": 34,
   "metadata": {},
   "outputs": [
    {
     "name": "stdout",
     "output_type": "stream",
     "text": [
      "[1. 2. 3. 4. 5.]\n"
     ]
    }
   ],
   "source": [
    "for row in f.tree:\n",
    "    print(np.array(row.x))"
   ]
  },
  {
   "cell_type": "code",
   "execution_count": 37,
   "metadata": {},
   "outputs": [
    {
     "data": {
      "image/png": "[encoded data removed]",
      "text/plain": [
       "<IPython.core.display.Image object>"
      ]
     },
     "metadata": {},
     "output_type": "display_data"
    }
   ],
   "source": [
    "c=ROOT.TCanvas()\n",
    "f.tree.Draw(\"x\")\n",
    "c.Draw()"
   ]
  },
  {
   "cell_type": "markdown",
   "metadata": {},
   "source": [
    "# RDataframe\n",
    "\n",
    "RDataframe supporta la conversione in pandas e numpy\n",
    "\n",
    "Per trasformare dataframe in numpy basta df.AsNumpy() e una volta fatto di può portare in pandas.\n",
    "E' possibile passare funzioni python alle istruzioni di RDataFrame ma bisogna usare NUMBA (bella porcata)"
   ]
  },
  {
   "cell_type": "markdown",
   "metadata": {},
   "source": [
    "# Uproot\n",
    "Uproot è una libreria per legere file root senza dover usare root\n",
    "\n",
    "E' più facile fare degli esempi che spiegare come funziona\n",
    "\n",
    "\n",
    "Il problema è che serve in più la libreria awkward per gestire gli inner loop"
   ]
  },
  {
   "cell_type": "code",
   "execution_count": 26,
   "metadata": {},
   "outputs": [
    {
     "name": "stdout",
     "output_type": "stream",
     "text": [
      "[{var1: -2.76, var2: -1.49, var3: -1.62, ... var4: -1.61, weight: 0.747}]\n"
     ]
    }
   ],
   "source": [
    "import uproot\n",
    "import numpy as np\n",
    "import matplotlib.pyplot as plt\n",
    "\n",
    "#Apro file e seleziono tree\n",
    "file=uproot.open(\"inputdata.root\")\n",
    "tree=file[\"TreeB\"]\n",
    "\n",
    "#converto ad array awkward\n",
    "np_tree=tree.arrays()\n",
    "print(np_tree) #Questo è un awkward array"
   ]
  },
  {
   "cell_type": "code",
   "execution_count": 28,
   "metadata": {},
   "outputs": [
    {
     "data": {
      "text/plain": [
       "(array([  1.,   0.,   0.,   0.,   2.,  12.,  21.,  22.,  57.,  65.,  83.,\n",
       "        125., 136., 160., 162., 181., 164., 175., 196., 186., 170., 188.,\n",
       "        170., 186., 185., 185., 186., 177., 176., 165., 199., 170., 164.,\n",
       "        179., 193., 192., 172., 187., 176., 166., 182., 137., 105.,  80.,\n",
       "         69.,  47.,  20.,  12.,  11.,   3.]),\n",
       " array([-5.8991194 , -5.6858587 , -5.472598  , -5.2593374 , -5.046077  ,\n",
       "        -4.8328166 , -4.619556  , -4.4062953 , -4.1930346 , -3.979774  ,\n",
       "        -3.7665133 , -3.553253  , -3.3399923 , -3.1267316 , -2.913471  ,\n",
       "        -2.7002106 , -2.48695   , -2.2736893 , -2.0604286 , -1.8471681 ,\n",
       "        -1.6339076 , -1.4206469 , -1.2073864 , -0.9941257 , -0.78086513,\n",
       "        -0.56760454, -0.35434395, -0.14108336,  0.07217724,  0.28543782,\n",
       "         0.4986984 ,  0.711959  ,  0.9252196 ,  1.1384802 ,  1.3517408 ,\n",
       "         1.5650014 ,  1.778262  ,  1.9915226 ,  2.2047832 ,  2.4180439 ,\n",
       "         2.6313043 ,  2.844565  ,  3.0578256 ,  3.2710862 ,  3.4843466 ,\n",
       "         3.6976073 ,  3.910868  ,  4.1241283 ,  4.337389  ,  4.5506496 ,\n",
       "         4.7639103 ], dtype=float32),\n",
       " <BarContainer object of 50 artists>)"
      ]
     },
     "execution_count": 28,
     "metadata": {},
     "output_type": "execute_result"
    },
    {
     "data": {
      "image/png": "[encoded data removed]",
      "text/plain": [
       "<Figure size 432x288 with 1 Axes>"
      ]
     },
     "metadata": {
      "needs_background": "light"
     },
     "output_type": "display_data"
    }
   ],
   "source": [
    "plt.hist(np_tree[\"var1\"],50)"
   ]
  }
 ],
 "metadata": {
  "interpreter": {
   "hash": "e7370f93d1d0cde622a1f8e1c04877d8463912d04d973331ad4851f04de6915a"
  },
  "kernelspec": {
   "display_name": "Python 3.10.4 64-bit",
   "language": "python",
   "name": "python3"
  },
  "language_info": {
   "codemirror_mode": {
    "name": "ipython",
    "version": 3
   },
   "file_extension": ".py",
   "mimetype": "text/x-python",
   "name": "python",
   "nbconvert_exporter": "python",
   "pygments_lexer": "ipython3",
   "version": "3.10.4"
  },
  "orig_nbformat": 4
 },
 "nbformat": 4,
 "nbformat_minor": 2
}
