{
 "cells": [
  {
   "cell_type": "markdown",
   "metadata": {},
   "source": [
    "# PyROOT\n",
    "E' il binding python di root. Oltre a portare tutte le feature di root su python permette di caricare header e codice c++ in python "
   ]
  },
  {
   "cell_type": "code",
   "execution_count": 2,
   "metadata": {},
   "outputs": [
    {
     "name": "stdout",
     "output_type": "stream",
     "text": [
      "Welcome to JupyROOT 6.26/02\n"
     ]
    }
   ],
   "source": [
    "import ROOT"
   ]
  },
  {
   "cell_type": "code",
   "execution_count": 14,
   "metadata": {},
   "outputs": [
    {
     "data": {
      "image/png": "[encoded data removed]",
      "text/plain": [
       "<IPython.core.display.Image object>"
      ]
     },
     "metadata": {},
     "output_type": "display_data"
    }
   ],
   "source": [
    "#Esempio plot funzione\n",
    "g=ROOT.TGraph()\n",
    "c=ROOT.TCanvas()\n",
    "func=ROOT.TF1(\"func\",\"[0]+sin([1]*x)\",0,10)\n",
    "func.SetParameters(1,1)\n",
    "func.Draw()\n",
    "c.Draw()\n"
   ]
  },
  {
   "cell_type": "markdown",
   "metadata": {},
   "source": [
    "## Importare codice cpp\n",
    "Per importare il codice basta scrivere il sorgente (o importarlo) come stringa e poi eseguirlo con\n",
    "ROOT.gInterpreter.ProcessLine(cpp_string)\n",
    "\n",
    "(Si possono fare anche cose abbastanza complicate come creare delle classi in modo da poter creare delle istanze direttamente in python)\n",
    "\n",
    "E' possibile caricare anche una shared library usando il comando ROOT.gSystem.Load(path)"
   ]
  },
  {
   "cell_type": "code",
   "execution_count": 4,
   "metadata": {},
   "outputs": [
    {
     "name": "stdout",
     "output_type": "stream",
     "text": [
      "25\n"
     ]
    }
   ],
   "source": [
    "cpp_code=\"\"\"\n",
    "int f(int i){return i*i;}\n",
    "\"\"\"\n",
    "ROOT.gInterpreter.ProcessLine(cpp_code)\n",
    "x=ROOT.f(5)\n",
    "print(x)\n",
    "\n",
    "#La stessa cosa si può fare se si vuole importare un header o una shared library"
   ]
  },
  {
   "cell_type": "markdown",
   "metadata": {},
   "source": [
    "# Files\n",
    "Funziona essenzialmente tutto come ROOT in c++"
   ]
  },
  {
   "cell_type": "code",
   "execution_count": 24,
   "metadata": {},
   "outputs": [],
   "source": [
    "import numpy as np\n",
    "f= ROOT.TFile(\"file.root\",\"RECREATE\")\n",
    "tree=ROOT.TTree(\"tree\",\"tree\")\n",
    "x=np.array([1,2,3,4,5]).astype(np.float32) #E' importante far matchare i tipi\n",
    "tree.Branch(\"x\",x,'x[5]/F')\n",
    "tree.Fill()\n",
    "f.Write()\n",
    "f.Close()"
   ]
  },
  {
   "cell_type": "markdown",
   "metadata": {},
   "source": [
    "# TTree"
   ]
  },
  {
   "cell_type": "code",
   "execution_count": 25,
   "metadata": {},
   "outputs": [
    {
     "name": "stdout",
     "output_type": "stream",
     "text": [
      "OBJ: TTree\ttree\ttree : 0 at: 0x56463a84a000\n"
     ]
    }
   ],
   "source": [
    "f=ROOT.TFile.Open(\"file.root\")\n",
    "f.tree.ls()"
   ]
  },
  {
   "cell_type": "code",
   "execution_count": 26,
   "metadata": {},
   "outputs": [
    {
     "data": {
      "text/plain": [
       "5"
      ]
     },
     "execution_count": 26,
     "metadata": {},
     "output_type": "execute_result"
    },
    {
     "name": "stdout",
     "output_type": "stream",
     "text": [
      "***********************************\n",
      "*    Row   * Instance *       x.x *\n",
      "***********************************\n",
      "*        0 *        0 *         1 *\n",
      "*        0 *        1 *         2 *\n",
      "*        0 *        2 *         3 *\n",
      "*        0 *        3 *         4 *\n",
      "*        0 *        4 *         5 *\n",
      "***********************************\n"
     ]
    }
   ],
   "source": [
    "f.tree.Scan()"
   ]
  },
  {
   "cell_type": "code",
   "execution_count": 34,
   "metadata": {},
   "outputs": [
    {
     "name": "stdout",
     "output_type": "stream",
     "text": [
      "[1. 2. 3. 4. 5.]\n"
     ]
    }
   ],
   "source": [
    "for row in f.tree:\n",
    "    print(np.array(row.x))"
   ]
  },
  {
   "cell_type": "code",
   "execution_count": 37,
   "metadata": {},
   "outputs": [
    {
     "data": {
      "image/png": "[encoded data removed]",
      "text/plain": [
       "<IPython.core.display.Image object>"
      ]
     },
     "metadata": {},
     "output_type": "display_data"
    }
   ],
   "source": [
    "c=ROOT.TCanvas()\n",
    "f.tree.Draw(\"x\")\n",
    "c.Draw()"
   ]
  },
  {
   "cell_type": "code",
   "execution_count": null,
   "metadata": {},
   "outputs": [],
   "source": []
  }
 ],
 "metadata": {
  "interpreter": {
   "hash": "e7370f93d1d0cde622a1f8e1c04877d8463912d04d973331ad4851f04de6915a"
  },
  "kernelspec": {
   "display_name": "Python 3.10.4 64-bit",
   "language": "python",
   "name": "python3"
  },
  "language_info": {
   "codemirror_mode": {
    "name": "ipython",
    "version": 3
   },
   "file_extension": ".py",
   "mimetype": "text/x-python",
   "name": "python",
   "nbconvert_exporter": "python",
   "pygments_lexer": "ipython3",
   "version": "3.10.4"
  },
  "orig_nbformat": 4
 },
 "nbformat": 4,
 "nbformat_minor": 2
}
