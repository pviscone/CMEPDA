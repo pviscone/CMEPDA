{
 "cells": [
  {
   "cell_type": "markdown",
   "metadata": {},
   "source": [
    "# ROOT\n",
    "Root è un framework dotato di routine di analisi dati, statistica, grafici e metodi avanzati di input/output\n",
    "\n",
    "Root ha un interprete built-in (cling) che in realtà è un just in time compiler ed è dotato di un wrapper python\n",
    "\n",
    "## I/O\n"
   ]
  },
  {
   "cell_type": "code",
   "execution_count": null,
   "metadata": {},
   "outputs": [],
   "source": []
  }
 ],
 "metadata": {
  "kernelspec": {
   "display_name": "ROOT C++",
   "language": "c++",
   "name": "root"
  },
  "language_info": {
   "codemirror_mode": "text/x-c++src",
   "file_extension": ".C",
   "mimetype": " text/x-c++src",
   "name": "c++"
  },
  "orig_nbformat": 4
 },
 "nbformat": 4,
 "nbformat_minor": 2
}
