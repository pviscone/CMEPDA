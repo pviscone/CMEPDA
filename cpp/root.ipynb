{
 "cells": [
  {
   "cell_type": "markdown",
   "metadata": {},
   "source": [
    "# ROOT\n",
    "Root è un framework dotato di routine di analisi dati, statistica, grafici e metodi avanzati di input/output\n",
    "\n",
    "Root ha un interprete built-in (cling) che in realtà è un just in time compiler ed è dotato di un wrapper python\n",
    "\n",
    "## I/O\n",
    "Le informazioni vengono salvatge e lette in  formato colonnare. Ovvero ogni riga corrisponde a un evento. Un evento può avere un numero arbitrario di particelle a cui sono associati diversi dati (energia, etc.)\n",
    "In una semplice lista python avremmo un tensore in cui ogni riga possiede un numero di colonne variabile e sarebbe molto difficile da gestire"
   ]
  },
  {
   "cell_type": "markdown",
   "metadata": {},
   "source": [
    "L'interprete di ROOT supporta dei comandi speciali che hanno come prefisso un punto\n",
    "- .q: chiudi root\n",
    "- .! usa comandi di sistema\n",
    "- .L file_name carica una macro (Per creare una macro basta scrivere un file cpp chiamato Macroname con dentro una funzione MacroName) per poi chiamarla quando si vuole. La macro viene eseguita JIT\n",
    "- .L file_name+ In questo modo la macro viene compilata e viene generata una shared library\n",
    "- .help help sui comandi speciali"
   ]
  },
  {
   "cell_type": "markdown",
   "metadata": {},
   "source": [
    "Per compilare un programma cpp che include pacchetti di root bisogna usare la seguente flag\n",
    "`root-config --cflags --libs`"
   ]
  },
  {
   "cell_type": "markdown",
   "metadata": {},
   "source": [
    "## Istogrammi\n",
    "La classe che gestisce gli istogrammi è TH1. Da questa eredita TH1F (F sta per float) che è la più usata ma anche TH2 e TH3 che è una cosa abbastanza stupida poichè un istogramma 2d o 3d non è un caso particolare di istogramma a una dimensione\n",
    "\n",
    "Per disegnare un istogramma bisogna creare un'istanza TH1F che ha come parametri(\"nome_hist\",\"titolo\",num_bin,xinf,xsup)\n",
    "\n",
    "Per mostrarlo bisogna creare un TCanvas (\"nome\", \"titolo\",height, width) e poi fare hist.Draw() e  canv.Draw()\n",
    "(canvas )\n",
    "**NB In root c'è una variabile interna che si chiama current TCanvas che, a meno che non venga cambiata a mano, corrisponde all'ultima TCanvas creata. Lo stesso vale quando si fa il fill dell'istogramma. (E' una porcheria, non è neanche thread safe)\n",
    "\n",
    "**NB In una macro è necessario creare TH1F con new allocandolo nell'heap altrimenti come si esce dallo scope della funzione l'istogramma viene distrutto. Ricorda che poi va distrutto. In modalità interattiva si può evitare**\n",
    "\n",
    "Volendo possiamo riempire l'istogramma con numeri casuali con FillRandom.\n",
    "\n",
    "### Opzioni sugli istrogrammi\n",
    "Gli istogrammi possono essere personalizzati sia con altri comani come.SetFillColor(colore), sia passando delle stringhe a .Draw() (Es. \"E\" per gli errori.Di default root mette errori poissoniani sui bin)\n",
    "Per disegnare altra roba sopra un istrogramma già esistente bisogna usare l'opzione SAME.  Per usare più opzioni basta attaccare le stringhe insieme senza separatori\n",
    "Per salvarli si usa il comando .SaveAs(name.png)\n",
    "\n",
    "Le tabelle riassuntive presenti di default negli istogrammi possono essere modificate usando variabili interne globali come gStyle->SetOptStat() e a questa funzione va passata una sequenza di 0 e 1 per decidere quali info mostrare e quale no"
   ]
  },
  {
   "cell_type": "code",
   "execution_count": 2,
   "metadata": {},
   "outputs": [
    {
     "data": {
      "image/png": "[encoded data removed]",
      "text/plain": [
       "<IPython.core.display.Image object>"
      ]
     },
     "metadata": {},
     "output_type": "display_data"
    }
   ],
   "source": [
    "TH1F *hist =new TH1F(\"histogram\",\"title\",64,-4,4);\n",
    "TCanvas c(\"myCanvasName\",\"The Canvas Title\",800,600);\n",
    "hist->FillRandom(\"gaus\",10000);\n",
    "\n",
    "//hist->Draw(\"E\"); //Il comando E disegna istogramma con errori\n",
    "hist->Draw(\"E\");\n",
    "hist->SetFillColor(kRed); //riempie istogramma\n",
    "hist->Draw(\"SAMEC\"); //Ridisegna la stessa cosa ma con una linea continua riempita di rosso\n",
    "c.Draw();\n"
   ]
  },
  {
   "cell_type": "markdown",
   "metadata": {},
   "source": []
  },
  {
   "cell_type": "code",
   "execution_count": null,
   "metadata": {},
   "outputs": [],
   "source": []
  }
 ],
 "metadata": {
  "kernelspec": {
   "display_name": "ROOT C++",
   "language": "c++",
   "name": "root"
  },
  "language_info": {
   "codemirror_mode": "text/x-c++src",
   "file_extension": ".C",
   "mimetype": " text/x-c++src",
   "name": "c++"
  },
  "orig_nbformat": 4
 },
 "nbformat": 4,
 "nbformat_minor": 2
}
