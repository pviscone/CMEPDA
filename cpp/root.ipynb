{
 "cells": [
  {
   "cell_type": "markdown",
   "metadata": {},
   "source": [
    "**NB ROOT su notebook fa pena crasha di continuo, non usarlo MAI. Qui usato solo per averer spiegazioni, codici e risultati insieme**"
   ]
  },
  {
   "cell_type": "markdown",
   "metadata": {},
   "source": [
    "# ROOT\n",
    "Root è un framework dotato di routine di analisi dati, statistica, grafici e metodi avanzati di input/output\n",
    "\n",
    "Root ha un interprete built-in (cling) che in realtà è un just in time compiler ed è dotato di un wrapper python\n",
    "\n",
    "## I/O\n",
    "Le informazioni vengono salvatge e lette in  formato colonnare. Ovvero ogni riga corrisponde a un evento. Un evento può avere un numero arbitrario di particelle a cui sono associati diversi dati (energia, etc.)\n",
    "In una semplice lista python avremmo un tensore in cui ogni riga possiede un numero di colonne variabile e sarebbe molto difficile da gestire"
   ]
  },
  {
   "cell_type": "markdown",
   "metadata": {},
   "source": [
    "L'interprete di ROOT supporta dei comandi speciali che hanno come prefisso un punto\n",
    "- .q: chiudi root\n",
    "- .! usa comandi di sistema\n",
    "- .L file_name carica una macro (Per creare una macro basta scrivere un file cpp chiamato Macroname con dentro una funzione MacroName) per poi chiamarla quando si vuole. La macro viene eseguita JIT\n",
    "- .L file_name+ In questo modo la macro viene compilata e viene generata una shared library\n",
    "- .help help sui comandi speciali"
   ]
  },
  {
   "cell_type": "markdown",
   "metadata": {},
   "source": [
    "Per compilare un programma cpp che include pacchetti di root bisogna usare la seguente flag\n",
    "`root-config --cflags --libs`"
   ]
  },
  {
   "cell_type": "markdown",
   "metadata": {},
   "source": [
    "## Files\n",
    "In ROOT i file vengono gestiti dalla classe TFile. I TFile sono bei binari aventi un  header e un record e possono essere compressi.\n",
    "\n",
    "I TFile hanno una struttura logica simile a quella di un filesystem ovvero hanno una gerarchia di directory.\n",
    "Inoltre sono auto descrittivi cioè l'informazione che serve per leggere il file è nel file stesso (possiamo leggerlo in qualsiasi modo senza dover usare per forza le classi root)\n",
    "\n",
    "Per scrivere i file ci sono 3 passaggi:\n",
    "1. Serializzazione: Bisogna convertire i dati in un blob di byte evitando loop e seguendo i puntatori correttamente. Inoltre è necessario che la serializzazione sia indipendente dall' enviroment.\n",
    "   Dato l'header file della classe viene creato un dizionario\n",
    "2. Compressione\n",
    "3. Scrittura\n",
    "\n",
    "Per creare un file bisogna istanziare un oggetto TFile(\"path\",\"OPZIONE\"). Se non passiamo alcuna opzione significa che stiamo aggendo in sola lettura. Tipicamente si usa **\"RECREATE\"** per scrivere e sovrascrivere un file o **UPDATE** per aggiungere roba al file\n",
    "\n",
    "Per scrivere un oggetto nel file basta usare oggetto.Write() Poi bisogna chiudere il file\n",
    "\n",
    "**Anche qui c'è l'idea stupida del current open file.**:\n",
    "Per cambiare il current file bisogna usare il comando old_file.cd()\n",
    "\n",
    "\n",
    "Altri comandi sono:\n",
    "- .GetObject(\"nome_oggetto\",nome_variabile) Per leggere un oggetto e scriverlo in variabile (bisogna prima creare la variabile e deve essere un puntatore)\n",
    "- .GetListOfKeys() ritorna un iterabile contenente tutti gli oggetti scritti nel file e con .GetName() sul singolo elemento si può ottenere il nome\n",
    "\n"
   ]
  },
  {
   "cell_type": "code",
   "execution_count": 1,
   "metadata": {},
   "outputs": [],
   "source": [
    "TFile f(\"file.root\",\"RECREATE\");\n",
    "TH1F h(\"histo\",\"histo\",100,0,100);\n",
    "h.Write();\n",
    "f.Close();"
   ]
  },
  {
   "cell_type": "markdown",
   "metadata": {},
   "source": [
    "### Formato colonnare\n",
    "I dati sono divisi in blocchi di righe contenenti gli eventi (**entries**) e in colonne contenenti dati diversi (es. impulso, angoli...) (**branches**)\n",
    "\n",
    "Questi dati però non èpossono essere rappresentati in vettori perchè hammp una struttura gerarchica ad albero\n",
    "![title](img/file.png)\n",
    "\n",
    "Questa rappresentazione è efficiente sia a Runtime (non bisogna leggere per forza tutto se ci interessa solo una parte dei dati), sia per quanto riguarda lo storage (poichè ogni colonna contiene dati simili tra loro e la loro compressione diventa più efficiente)\n",
    "\n",
    "### TTree\n",
    "Il formato colonnare in un file root è rappresentato dai TTree.\n",
    "Le colonne del tree sono i branch e le righe sono una entry\n",
    "\n",
    "#### TNtuple\n",
    "TNtuple tuple(\"nome\",\"titolo\",\"x,y\");\n",
    "\n",
    "Una versione semplificata è la **TNtuple** ovvero un tree che ha come branch delle singole variabili numeriche.\n",
    "Possiamo fare plot sulle NTuple usando il metodo .Draw(\"formula\",\"mask\")\n",
    "(ad esempio se vogliamo il prodotto dell'impulso x e y considerando solo le entries con pz>0 è tuple.Draw(\"px*py\",\"pz>0\"))\n",
    "\n",
    "In realtà quella non è una mask ma un peso, in questo caso abbiamo usato una espressione booleana quindi è una mask ma possiamo anche decidere di pesare i nostri px*py con pz stesso\n",
    "\n",
    "#### tree\n",
    "Per creare delle Bracnhce dopo aver costruito il tree bisogna fare\n",
    "tree.Branch(\"nome_branch\",&variabile) dove &variabile è l'indirizzo di memoria che contiene il dato da aggiungere nel branche\n",
    "\n",
    "Dopo che in x mettiamo il dato che ci interessa facciamo tree.Fill() e in questo modo aggiungiamo una entries\n",
    "\n",
    "Per leggerlo invece si usa l'oggetto TTreeReader(\"tree_name_to_read\", &Tfile_name)"
   ]
  },
  {
   "cell_type": "code",
   "execution_count": null,
   "metadata": {},
   "outputs": [],
   "source": [
    "//Leggere un tree///////\n",
    "////////////////////////\n",
    "Tile f(\"file.root\");\n",
    "\n",
    "//creo un reader\n",
    "TTreeReader reader(\"tree_name\",&f);\n",
    "\n",
    "\n",
    "\n",
    "//creo iterabile su un branch\n",
    "TTreeReaderValue<Object_type> BR(reader,\"branch_name\");\n",
    "\n",
    "while(reader.Next()){\n",
    "    for (auto &obj : *BR){\n",
    "        //operazioni sull'oggetto\n",
    "    }\n",
    "}\n"
   ]
  },
  {
   "cell_type": "markdown",
   "metadata": {},
   "source": [
    "## Istogrammi\n",
    "La classe che gestisce gli istogrammi è TH1. Da questa eredita TH1F (F sta per float) che è la più usata ma anche TH2 e TH3 che è una cosa abbastanza stupida poichè un istogramma 2d o 3d non è un caso particolare di istogramma a una dimensione\n",
    "\n",
    "Per disegnare un istogramma bisogna creare un'istanza TH1F che ha come parametri(\"nome_hist\",\"titolo\",num_bin,xinf,xsup)\n",
    "\n",
    "Per mostrarlo bisogna creare un TCanvas (\"nome\", \"titolo\",height, width) e poi fare hist.Draw() e  canv.Draw()\n",
    "(canvas )\n",
    "**NB In root c'è una variabile interna che si chiama current TCanvas che, a meno che non venga cambiata a mano, corrisponde all'ultima TCanvas creata. Lo stesso vale quando si fa il fill dell'istogramma. (E' una porcheria, non è neanche thread safe)\n",
    "\n",
    "La canvas corrente è nella variabile builtin gpad. **E' un puntatore globale (gPad->SetGrid() equivale a lastcanvascreated.SetGrid())\n",
    "\n",
    "**NB In una macro è necessario creare TH1F con new allocandolo nell'heap altrimenti come si esce dallo scope della funzione l'istogramma viene distrutto. Ricorda che poi va distrutto. In modalità interattiva si può evitare**\n",
    "\n",
    "Volendo possiamo riempire l'istogramma con numeri casuali con FillRandom.\n",
    "\n",
    "### Opzioni sugli istrogrammi\n",
    "Gli istogrammi possono essere personalizzati sia con altri comani come.SetFillColor(colore), sia passando delle stringhe a .Draw() (Es. \"E\" per gli errori.Di default root mette errori poissoniani sui bin)\n",
    "Per disegnare altra roba sopra un istrogramma già esistente bisogna usare l'opzione SAME.  Per usare più opzioni basta attaccare le stringhe insieme senza separatori\n",
    "Per salvarli si usa il comando .SaveAs(name.png) sulla canvas\n",
    "\n",
    "Le tabelle riassuntive presenti di default negli istogrammi possono essere modificate usando variabili interne globali come gStyle->SetOptStat() e a questa funzione va passata una sequenza di 0 e 1 per decidere quali info mostrare e quale no"
   ]
  },
  {
   "cell_type": "code",
   "execution_count": 1,
   "metadata": {},
   "outputs": [
    {
     "data": {
      "image/png": "[encoded data removed]",
      "text/plain": [
       "<IPython.core.display.Image object>"
      ]
     },
     "metadata": {},
     "output_type": "display_data"
    }
   ],
   "source": [
    "TH1F *hist =new TH1F(\"histogram\",\"title\",64,-4,4);\n",
    "TCanvas c(\"myCanvasName\",\"The Canvas Title\",800,600);\n",
    "hist->FillRandom(\"gaus\",10000);\n",
    "\n",
    "//hist->Draw(\"E\"); //Il comando E disegna istogramma con errori\n",
    "hist->Draw(\"E\");\n",
    "hist->SetFillColor(kRed); //riempie istogramma\n",
    "hist->Draw(\"SAMEC\"); //Ridisegna la stessa cosa ma con una linea continua riempita di rosso\n",
    "c.Draw();\n"
   ]
  },
  {
   "cell_type": "markdown",
   "metadata": {},
   "source": [
    "# Funzioni\n",
    "Le funzioni sono rappresentate dalla classe TF1 (da R a R, ci sono anche TF12, TF2, TF3).\n",
    "Root è dotato di algoritmi numerici per calcolare derivate e integrali delle TF1\n",
    "\n",
    "Le TF1 possono essere istanziate in 2 modi:\n",
    "- Come stringhe (inoltre esistono delle funzioni builtin tipo \"gaus\" per la gaussiana media 0 varianza 1)\n",
    "- Come funzioni C++ o lambdas\n",
    "\n",
    "I parametri si esprimono con parentesi quadre\n",
    "\n"
   ]
  },
  {
   "cell_type": "code",
   "execution_count": 1,
   "metadata": {},
   "outputs": [
    {
     "data": {
      "image/png": "[encoded data removed]",
      "text/plain": [
       "<IPython.core.display.Image object>"
      ]
     },
     "metadata": {},
     "output_type": "display_data"
    }
   ],
   "source": [
    "//Plot di funzione (qui non uso f1= new TF1 ma in uno script va fatto per forza in questo modo)\n",
    "TCanvas c(\"myCanvasName\",\"The Canvas Title\",800,600);\n",
    "\n",
    "//0 e 1 sono parametri\n",
    "TF1 f1(\"nome\",\"[0]*sin([1]*x)/x\",0.,10.);\n",
    "f1.SetParameters(1.,1.);\n",
    "f1.Draw();\n",
    "c.Draw();"
   ]
  },
  {
   "cell_type": "markdown",
   "metadata": {},
   "source": [
    "# TGraph\n",
    "E' una sorta di scatterplot(molto simile al .plot di matlotlib)\n",
    "\n",
    "Per aggiungere un punto al TGraph bisogna usare .SetPoint(num_punto,x,y) *Per gli istogrammi si usa Fill*\n",
    "\n",
    "Opzioni:\n",
    "- .SetMarkerStyle e .SetMarkerSize Per campbiare marker\n",
    "- .SetMarkerColor e SetLineColor per cambiare colore del marker o della linea\n",
    "- .SetLineStyle .SetLineWidth per cambiare stile e grandezza della linea\n",
    "- .SetTitle(\"titolo;asse x; assey\") Per cambiare titolo e label assi\n",
    "- ci sono altri comandi tipo per la trasparenza "
   ]
  },
  {
   "cell_type": "code",
   "execution_count": 1,
   "metadata": {},
   "outputs": [
    {
     "data": {
      "image/png": "[encoded data removed]",
      "text/plain": [
       "<IPython.core.display.Image object>"
      ]
     },
     "metadata": {},
     "output_type": "display_data"
    }
   ],
   "source": [
    "\n",
    "#include <tuple>\n",
    "#include <vector>\n",
    "using namespace std;\n",
    "TGraph g;\n",
    "TCanvas  c (\"myCanvasName\",\"The Canvas Title\",800,600);\n",
    "vector<double> points {1,2,3,4,5};\n",
    "for (auto [idx,x]=tuple{0,points.begin()}; x != points.end(); ++idx, ++x) {\n",
    "    g.SetPoint(idx,*x,(*x)*(*x));\n",
    "}\n",
    "g.SetMarkerStyle(kFullCircle);\n",
    "g.Draw(\"APL\");\n",
    "c.SetGrid();\n",
    "c.Draw();"
   ]
  },
  {
   "cell_type": "markdown",
   "metadata": {},
   "source": [
    "**Opzioni sulla canvas**:\n",
    "- .SetGrid() mette griglia\n",
    "- TLatex text(x,t,\"testo\"); test.Draw();  scrive del testo in latex sul grafico\n",
    "- .SetLogx() .SetLogy() per la scala logaritmica\n",
    "\n",
    "**Stili grafici**\n",
    "\n",
    "Lo stile corrente è contenuto nel puntatore globale **gStyle**. \n",
    "Gli stili sono gestiti dalla classe TStyle e un utente può definire il proprio stile (di solito ogni esperimento crea il proprio. I built-in sono Plain, Bold, Pub, Modern (di default))"
   ]
  },
  {
   "cell_type": "markdown",
   "metadata": {},
   "source": [
    "# Plot 2D\n",
    "\n",
    "## Colormap\n",
    "Possiamo fare delle colormap tramite la classe TH2F e quando facciamo draw usiamo l'opzione \"colz\" (ovvero colora la coordinata z)\n",
    "La colormap di default è kBird (EVITA LA RAINBOW ASSOLUTAMENTE)\n",
    " "
   ]
  },
  {
   "cell_type": "markdown",
   "metadata": {},
   "source": []
  },
  {
   "cell_type": "code",
   "execution_count": null,
   "metadata": {},
   "outputs": [],
   "source": []
  },
  {
   "cell_type": "code",
   "execution_count": null,
   "metadata": {},
   "outputs": [],
   "source": []
  }
 ],
 "metadata": {
  "kernelspec": {
   "display_name": "ROOT C++",
   "language": "c++",
   "name": "root"
  },
  "language_info": {
   "codemirror_mode": "text/x-c++src",
   "file_extension": ".C",
   "mimetype": " text/x-c++src",
   "name": "c++"
  },
  "orig_nbformat": 4
 },
 "nbformat": 4,
 "nbformat_minor": 2
}
